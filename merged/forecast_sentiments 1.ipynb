{
 "cells": [
  {
   "cell_type": "markdown",
   "metadata": {},
   "source": [
    "**Table of contents**<a id='toc0_'></a>    \n",
    "- 1. [Setup](#toc1_)    \n",
    "- 2. [Prepare the data](#toc2_)    \n",
    "- 3. [Model](#toc3_)    \n",
    "- 4. [Training & Evaluation](#toc4_)    \n",
    "- 5. [Driver Code](#toc5_)    \n",
    "  - 5.1. [Standalone](#toc5_1_)    \n",
    "  - 5.2. [Hyperparameter Tuning](#toc5_2_)    \n",
    "\n",
    "<!-- vscode-jupyter-toc-config\n",
    "\tnumbering=true\n",
    "\tanchor=true\n",
    "\tflat=false\n",
    "\tminLevel=1\n",
    "\tmaxLevel=6\n",
    "\t/vscode-jupyter-toc-config -->\n",
    "<!-- THIS CELL WILL BE REPLACED ON TOC UPDATE. DO NOT WRITE YOUR TEXT IN THIS CELL -->"
   ]
  },
  {
   "cell_type": "markdown",
   "metadata": {},
   "source": [
    "# 1. <a id='toc1_'></a>[Setup](#toc0_)"
   ]
  },
  {
   "cell_type": "code",
   "execution_count": 1,
   "metadata": {},
   "outputs": [],
   "source": [
    "import numpy as np\n",
    "import pandas as pd\n",
    "import torch\n",
    "import torch.nn as nn\n",
    "import matplotlib.pyplot as plt\n",
    "from sklearn.preprocessing import MinMaxScaler\n",
    "from sklearn.metrics import mean_squared_error\n",
    "from sklearn.metrics import mean_absolute_percentage_error\n",
    "from pprint import pprint\n",
    "import yfinance as yf\n",
    "import datetime as dt"
   ]
  },
  {
   "cell_type": "code",
   "execution_count": 2,
   "metadata": {},
   "outputs": [],
   "source": [
    "df_tweet = pd.read_parquet('googl_tweet_data.gzip') \n",
    "df_reddit = pd.read_csv(\"reddit_sentiments.csv\")\n",
    "df_news = pd.read_csv(\"news_sentiments.csv\")"
   ]
  },
  {
   "cell_type": "code",
   "execution_count": 3,
   "metadata": {},
   "outputs": [],
   "source": [
    "df_tweet.rename(columns = {'VADER_sentiment':'tweet_sentiment', 'compound_score':'tweet_compound', 'date' : 'Date'}, inplace = True)"
   ]
  },
  {
   "cell_type": "markdown",
   "metadata": {},
   "source": [
    "# 2. <a id='toc2_'></a>[Prepare the data](#toc0_)"
   ]
  },
  {
   "cell_type": "code",
   "execution_count": 4,
   "metadata": {},
   "outputs": [],
   "source": [
    "def prepare_data_multivariate(df, choosen_stock, features, look_back):\n",
    "    # Choose specific stock\n",
    "    data = df[df[\"Stock\"] == choosen_stock]\n",
    "\n",
    "    # Training split: data for years 2015-2018\n",
    "    train_data = data[data[\"Date\"].dt.year.isin(range(2015, 2019))]\n",
    "    valid_size = int(len(data) * 0.10)\n",
    "    train_data, valid_data = train_data[:-valid_size], train_data[-valid_size:]\n",
    "\n",
    "    # Testing split: data for the year 2019\n",
    "    test_data = data[data[\"Date\"].dt.year == 2019]\n",
    "    # test_data = data[(data[\"Date\"].dt.year == 2019) & (data[\"Date\"].dt.month.isin([1]))]\n",
    "    # test_data = data[data[\"Date\"].dt.year == 2019][0:20] \n",
    "    # test_data = data[(data[\"Date\"] >= \"2019-01-01\") & (data[\"Date\"] <= \"2019-01-16\")]\n",
    "    \n",
    "    # Feature selection and engineering\n",
    "    train_data = train_data[features].values\n",
    "    valid_data = valid_data[features].values\n",
    "    test_data = test_data[features].values\n",
    "    \n",
    "    # Normalize the data\n",
    "    scaler = MinMaxScaler(feature_range=(0, 1))\n",
    "    train_data = scaler.fit_transform(train_data)\n",
    "    valid_data = scaler.transform(valid_data)\n",
    "    test_data = scaler.transform(test_data)\n",
    "    \n",
    "    # Create sequences for LSTM input\n",
    "    def create_sequences(dataset, look_back=1):\n",
    "        X, Y = [], []\n",
    "        for i in range(len(dataset) - look_back):\n",
    "            X.append(dataset[i:(i + look_back), :])\n",
    "            Y.append(dataset[i + look_back, 0])\n",
    "        return np.array(X), np.array(Y)\n",
    "\n",
    "    train_X, train_Y = create_sequences(train_data, look_back)\n",
    "    valid_X, valid_Y = create_sequences(valid_data, look_back)\n",
    "    test_X, test_Y = create_sequences(test_data, look_back)\n",
    "\n",
    "    # Convert data to PyTorch tensors\n",
    "    train_X = torch.Tensor(train_X)\n",
    "    train_Y = torch.Tensor(train_Y)\n",
    "    valid_X = torch.Tensor(valid_X)\n",
    "    valid_Y = torch.Tensor(valid_Y)\n",
    "    test_X = torch.Tensor(test_X)\n",
    "    test_Y = torch.Tensor(test_Y)\n",
    "    \n",
    "    return train_X, train_Y, valid_X, valid_Y, test_X, test_Y, scaler"
   ]
  },
  {
   "cell_type": "markdown",
   "metadata": {},
   "source": [
    "# 3. <a id='toc3_'></a>[Model](#toc0_)"
   ]
  },
  {
   "cell_type": "code",
   "execution_count": 5,
   "metadata": {},
   "outputs": [],
   "source": [
    "class MultivariateLSTMModel(nn.Module):\n",
    "    def __init__(self, input_size, hidden_size, num_layers, output_size):\n",
    "        super(MultivariateLSTMModel, self).__init__()\n",
    "        self.hidden_size = hidden_size\n",
    "        self.num_layers = num_layers\n",
    "        self.lstm = nn.LSTM(input_size, hidden_size, num_layers, batch_first=True)\n",
    "        self.fc = nn.Linear(hidden_size, output_size)\n",
    "    \n",
    "    def forward(self, x):\n",
    "        h0 = torch.zeros(self.num_layers, x.size(0), self.hidden_size).to(x.device)\n",
    "        c0 = torch.zeros(self.num_layers, x.size(0), self.hidden_size).to(x.device)\n",
    "        out, _ = self.lstm(x, (h0, c0))\n",
    "        out = self.fc(out[:, -1, :])\n",
    "        return out"
   ]
  },
  {
   "cell_type": "markdown",
   "metadata": {},
   "source": [
    "# 4. <a id='toc4_'></a>[Training & Evaluation](#toc0_)"
   ]
  },
  {
   "cell_type": "code",
   "execution_count": 6,
   "metadata": {},
   "outputs": [],
   "source": [
    "def train_evaluate_lstm_multivariate(input_size, hidden_sizes, num_layers, output_size, learning_rate, num_epochs, train_X, train_Y, valid_X, valid_Y, test_X, test_Y, scaler, visualize=False):\n",
    "    # Initialize the model\n",
    "    model = MultivariateLSTMModel(input_size, hidden_sizes, num_layers, output_size)\n",
    "    criterion = nn.MSELoss()\n",
    "    optimizer = torch.optim.Adam(model.parameters(), lr=learning_rate)\n",
    "        \n",
    "    # Training the model\n",
    "    train_losses = []\n",
    "    val_losses = []\n",
    "    \n",
    "    # Training loop\n",
    "    for epoch in range(num_epochs):\n",
    "        model.train()\n",
    "        outputs = model(train_X)\n",
    "        optimizer.zero_grad()\n",
    "        loss = criterion(outputs.view(-1), train_Y)\n",
    "        loss.backward()\n",
    "        optimizer.step()\n",
    "        train_losses.append(loss.item())\n",
    "        model.eval()\n",
    "        val_outputs = model(valid_X)\n",
    "        val_loss = criterion(val_outputs.view(-1), valid_Y)\n",
    "        val_losses.append(val_loss.item())\n",
    "        \n",
    "        if visualize == True:\n",
    "            if (epoch + 1) % 20 == 0:\n",
    "                print(f'Epoch [{epoch + 1}/{num_epochs}], Training Loss: {loss.item():.4f}, Validation Loss: {val_loss.item():.4f}')\n",
    "    \n",
    "    model.eval()\n",
    "    \n",
    "    # Calculate predictions\n",
    "    train_predict = model(train_X).view(-1).cpu().detach().numpy()\n",
    "    valid_predict = model(valid_X).view(-1).cpu().detach().numpy()\n",
    "    test_predict = model(test_X).view(-1).cpu().detach().numpy()\n",
    "    \n",
    "    # Compute MAPE\n",
    "    train_mape = mean_absolute_percentage_error(train_Y, train_predict)\n",
    "    valid_mape = mean_absolute_percentage_error(valid_Y, valid_predict)\n",
    "    test_mape = mean_absolute_percentage_error(test_Y, test_predict)\n",
    "\n",
    "    # Evaluate the model using metrics like mean squared error (MSE)\n",
    "    train_rmse = mean_squared_error(train_Y, train_predict, squared=False)\n",
    "    valid_rmse = mean_squared_error(valid_Y, valid_predict, squared=False)\n",
    "    test_rmse = mean_squared_error(test_Y, test_predict, squared=False)\n",
    "    \n",
    "    if visualize == True:\n",
    "        \n",
    "        # 1. Visualize training and validation loss\n",
    "        plt.figure(figsize=(6, 2))\n",
    "        plt.plot(train_losses, label='Training Loss', linewidth=2)\n",
    "        plt.plot(val_losses, label='Validation Loss', linewidth=2)\n",
    "        plt.title(\"Training and Validation Loss Over Epochs\")\n",
    "        plt.xlabel(\"Epoch\")\n",
    "        plt.ylabel(\"Loss\")\n",
    "        plt.legend()\n",
    "        plt.grid(True)\n",
    "        plt.show()\n",
    "\n",
    "        # 2. Visualize test and predictions\n",
    "        plt.figure(figsize=(6, 3))\n",
    "        plt.plot(test_Y, label='True', linewidth=2)\n",
    "        plt.plot(test_predict, label='Predicted', linewidth=2)\n",
    "        plt.title(\"Predicting next 1 year using Multivariate LSTM\")\n",
    "        plt.xlabel(\"Time Steps\")\n",
    "        plt.ylabel(\"Price\")\n",
    "        plt.legend()\n",
    "        plt.grid(True)\n",
    "        plt.show()\n",
    "    \n",
    "    return model, loss, train_rmse, valid_rmse, test_rmse, train_mape, valid_mape, test_mape"
   ]
  },
  {
   "cell_type": "markdown",
   "metadata": {},
   "source": [
    "# 5. <a id='toc5_'></a>[Driver Code](#toc0_)"
   ]
  },
  {
   "cell_type": "markdown",
   "metadata": {},
   "source": [
    "## 5.1. <a id='toc5_1_'></a>[Standalone](#toc0_)"
   ]
  },
  {
   "cell_type": "code",
   "execution_count": 7,
   "metadata": {},
   "outputs": [
    {
     "name": "stdout",
     "output_type": "stream",
     "text": [
      "[*********************100%%**********************]  5 of 5 completed\n"
     ]
    }
   ],
   "source": [
    "# Load the data\n",
    "yf.pdr_override() # Override pandas datareader with yfinance\n",
    "y_symbols = ['AAPL', 'GOOG', 'AMZN', 'TSLA', 'MSFT'] # list of stock symbols\n",
    "startdate = dt.datetime(2015, 1, 1) # start date\n",
    "enddate = dt.datetime(2020, 12, 31) # end date\n",
    "df = yf.download(y_symbols, start=startdate, end=enddate) # Retrieve historical stock price data for the specified symbols and date range\n",
    "df = df.stack(level=1) # Stack the multi-level index to create a single-level index\n",
    "df = df.reset_index() # Reset the index to make 'Date' a regular column\n",
    "df.columns = ['Date', 'Stock', 'Adj Close', 'Close', 'High', 'Low', 'Open', 'Volume'] # Rename the columns to match the desired structure\n",
    "df['Date'] = pd.to_datetime(df['Date'])"
   ]
  },
  {
   "cell_type": "code",
   "execution_count": 8,
   "metadata": {},
   "outputs": [],
   "source": [
    "df.columns\n",
    "df_tweet['Date'] = pd.to_datetime(df_tweet['Date'])"
   ]
  },
  {
   "cell_type": "code",
   "execution_count": 9,
   "metadata": {},
   "outputs": [
    {
     "data": {
      "text/plain": [
       "Index(['tweet_id', 'post_date', 'body', 'ticker_symbol', 'Date', 'time',\n",
       "       'post_year', 'tweet_sentiment', 'tweet_compound', 'VADER_label'],\n",
       "      dtype='object')"
      ]
     },
     "execution_count": 9,
     "metadata": {},
     "output_type": "execute_result"
    }
   ],
   "source": [
    "df_tweet.columns"
   ]
  },
  {
   "cell_type": "code",
   "execution_count": 10,
   "metadata": {},
   "outputs": [
    {
     "name": "stderr",
     "output_type": "stream",
     "text": [
      "C:\\Users\\nidhi\\AppData\\Local\\Temp\\ipykernel_18940\\3392356878.py:1: FutureWarning: Series.__getitem__ treating keys as positions is deprecated. In a future version, integer keys will always be treated as labels (consistent with DataFrame behavior). To access a value by position, use `ser.iloc[pos]`\n",
      "  type(df.iloc[0][0]), type(df_tweet.iloc[0][4])\n"
     ]
    },
    {
     "data": {
      "text/plain": [
       "(pandas._libs.tslibs.timestamps.Timestamp,\n",
       " pandas._libs.tslibs.timestamps.Timestamp)"
      ]
     },
     "execution_count": 10,
     "metadata": {},
     "output_type": "execute_result"
    }
   ],
   "source": [
    "type(df.iloc[0][0]), type(df_tweet.iloc[0][4])"
   ]
  },
  {
   "cell_type": "code",
   "execution_count": 11,
   "metadata": {},
   "outputs": [],
   "source": [
    "df = df.merge(df_tweet, on = 'Date')"
   ]
  },
  {
   "cell_type": "code",
   "execution_count": 12,
   "metadata": {},
   "outputs": [],
   "source": [
    "# Create a new DataFrame with only the desired columns\n",
    "features=['Date', 'Stock','Close', 'High', 'Low', 'Open', 'Volume','tweet_compound']\n",
    "new_df = df[features].copy()"
   ]
  },
  {
   "cell_type": "code",
   "execution_count": 14,
   "metadata": {},
   "outputs": [
    {
     "name": "stdout",
     "output_type": "stream",
     "text": [
      "Epoch [20/100], Training Loss: 0.0078, Validation Loss: 0.0556\n",
      "Epoch [40/100], Training Loss: 0.0010, Validation Loss: 0.0012\n",
      "Epoch [60/100], Training Loss: 0.0003, Validation Loss: 0.0041\n",
      "Epoch [80/100], Training Loss: 0.0001, Validation Loss: 0.0019\n",
      "Epoch [100/100], Training Loss: 0.0001, Validation Loss: 0.0013\n"
     ]
    },
    {
     "data": {
      "image/png": "[encoded data removed]",
      "text/plain": [
       "<Figure size 600x200 with 1 Axes>"
      ]
     },
     "metadata": {},
     "output_type": "display_data"
    },
    {
     "data": {
      "image/png": "[encoded data removed]",
      "text/plain": [
       "<Figure size 600x300 with 1 Axes>"
      ]
     },
     "metadata": {},
     "output_type": "display_data"
    },
    {
     "name": "stdout",
     "output_type": "stream",
     "text": [
      "MultivariateLSTMModel(\n",
      "  (lstm): LSTM(6, 32, batch_first=True)\n",
      "  (fc): Linear(in_features=32, out_features=1, bias=True)\n",
      ")\n",
      "test_rmse:  0.06\n",
      "test_mape:  0.04\n"
     ]
    }
   ],
   "source": [
    "\n",
    "# choose stock and lags\n",
    "choosen_stock = \"GOOG\"\n",
    "look_back = 5\n",
    "\n",
    "train_X, train_Y, valid_X, valid_Y, test_X, test_Y, scaler = prepare_data_multivariate(new_df, choosen_stock, features=['Close', 'High', 'Low', 'Open', 'Volume','tweet_compound'], look_back=look_back)\n",
    "\n",
    "# Define hyperparameters\n",
    "input_size = 6  # Number of input features (High, Low, Open, Close, Volume)\n",
    "hidden_sizes = 32  # Number of hidden units in the LSTM\n",
    "num_layers = 1  # Number of LSTM layers\n",
    "output_size = 1  # Number of output features (Close price)\n",
    "learning_rate = 0.02\n",
    "num_epochs = 100\n",
    "\n",
    "# Create the model\n",
    "model, loss, train_rmse, valid_rmse, test_rmse, train_mape, valid_mape, test_mape = train_evaluate_lstm_multivariate(input_size, hidden_sizes, num_layers, output_size, learning_rate, num_epochs, train_X, train_Y, valid_X, valid_Y, test_X, test_Y, scaler, visualize=True)\n",
    "\n",
    "print(model)\n",
    "print(\"test_rmse: \", round(test_rmse, 2))\n",
    "print(\"test_mape: \", round(test_mape, 2))"
   ]
  },
  {
   "cell_type": "markdown",
   "metadata": {},
   "source": [
    "**Observations:**\n",
    "\n",
    "- Training and Validation loss decreases over the epochs.\n",
    "\n",
    "- Predictions are more accurate for shorter timeframes with more accuracy in predicting immediately following dates."
   ]
  },
  {
   "cell_type": "markdown",
   "metadata": {},
   "source": [
    "## 5.2. <a id='toc5_2_'></a>[Hyperparameter Tuning](#toc0_)"
   ]
  },
  {
   "cell_type": "code",
   "execution_count": null,
   "metadata": {},
   "outputs": [
    {
     "name": "stdout",
     "output_type": "stream",
     "text": [
      "[*********************100%%**********************]  5 of 5 completed\n",
      "\n",
      "Top 3 Performing Models:\n",
      "[{'learning_rate': 0.005,\n",
      "  'look_back': 5,\n",
      "  'model': MultivariateLSTMModel(\n",
      "  (lstm): LSTM(5, 64, batch_first=True)\n",
      "  (fc): Linear(in_features=64, out_features=1, bias=True)\n",
      "),\n",
      "  'test_mape': 0.025277834,\n",
      "  'test_rmse': 0.033426613},\n",
      " {'learning_rate': 0.005,\n",
      "  'look_back': 5,\n",
      "  'model': MultivariateLSTMModel(\n",
      "  (lstm): LSTM(5, 64, batch_first=True)\n",
      "  (fc): Linear(in_features=64, out_features=1, bias=True)\n",
      "),\n",
      "  'test_mape': 0.02844924,\n",
      "  'test_rmse': 0.037590798},\n",
      " {'learning_rate': 0.01,\n",
      "  'look_back': 5,\n",
      "  'model': MultivariateLSTMModel(\n",
      "  (lstm): LSTM(5, 64, batch_first=True)\n",
      "  (fc): Linear(in_features=64, out_features=1, bias=True)\n",
      "),\n",
      "  'test_mape': 0.029856933,\n",
      "  'test_rmse': 0.03984923}]\n"
     ]
    }
   ],
   "source": [
    "## Tuning\n",
    "\n",
    "# Load the data\n",
    "yf.pdr_override() # Override pandas datareader with yfinance\n",
    "y_symbols = ['AAPL', 'GOOG', 'AMZN', 'TSLA', 'MSFT']\n",
    "startdate = dt.datetime(2015, 1, 1) # start date\n",
    "enddate = dt.datetime(2020, 12, 31) # end date\n",
    "df = yf.download(y_symbols, start=startdate, end=enddate) # Retrieve historical stock price data for the specified symbols and date range\n",
    "df = df.stack(level=1) # Stack the multi-level index to create a single-level index\n",
    "df = df.reset_index() # Reset the index to make 'Date' a regular column\n",
    "df.columns = ['Date', 'Stock', 'Adj Close', 'Close', 'High', 'Low', 'Open', 'Volume'] # Rename the columns to match the desired structure\n",
    "df['Date'] = pd.to_datetime(df['Date'])\n",
    "\n",
    "# Hyperparameters\n",
    "choosen_stock = \"GOOG\"  # [TSLA, GOOG, AAPL, MSFT, AMZN]\n",
    "look_back_values = [5] \n",
    "hidden_size_values = [64, 128] \n",
    "\n",
    "num_layers_values = [1] # [2, 3, 4]\n",
    "learning_rate_values = [0.005, 0.01, 0.02]  \n",
    "num_epochs = 100\n",
    "years_to_include = [2015, 2016, 2017, 2018, 2019]\n",
    "\n",
    "best_models = []\n",
    "top_k = 3  # Get the top k performing models\n",
    "\n",
    "# Hyperparameter tuning loop\n",
    "for look_back in look_back_values:\n",
    "    for hidden_size in hidden_size_values:\n",
    "        for num_layers in num_layers_values:\n",
    "            for learning_rate in learning_rate_values:\n",
    "                # print(f\"\\nHyperparameters: look_back={look_back}, hidden_size={hidden_size}, num_layers={num_layers}, learning_rate={learning_rate}\")\n",
    "                train_X, train_Y, valid_X, valid_Y, test_X, test_Y, scaler = prepare_data_multivariate(df, choosen_stock, features=['High', 'Low', 'Open', 'Close', 'Volume'], look_back=10)\n",
    "                model, loss, train_rmse, valid_rmse, test_rmse, train_mape, valid_mape, test_mape = train_evaluate_lstm_multivariate(input_size, hidden_sizes, num_layers, output_size, learning_rate, num_epochs, train_X, train_Y, valid_X, valid_Y, test_X, test_Y, scaler, visualize=False)\n",
    "                best_models.append({\n",
    "                    \"look_back\": look_back,\n",
    "                    \"model\" : model,\n",
    "                    \"learning_rate\": learning_rate,\n",
    "                    # \"train_rmse\": train_rmse,\n",
    "                    # \"valid_rmse\": valid_rmse,\n",
    "                    \"test_rmse\": test_rmse,\n",
    "                    # \"train_mape\": train_mape,\n",
    "                    # \"valid_mape\": valid_mape,\n",
    "                    \"test_mape\": test_mape,\n",
    "                })\n",
    "\n",
    "# Sort the models by RMSE in ascending order\n",
    "best_models.sort(key=lambda x: (x[\"test_rmse\"], x[\"test_mape\"]))\n",
    "\n",
    "# Print the top-k performing models\n",
    "print(f\"\\nTop {top_k} Performing Models:\")\n",
    "pprint(best_models[:top_k])"
   ]
  },
  {
   "cell_type": "markdown",
   "metadata": {},
   "source": [
    "**Observations:**\n",
    "\n",
    "- Hyperparameter tuning results in top k models having almost similar performance."
   ]
  }
 ],
 "metadata": {
  "kernelspec": {
   "display_name": "venv",
   "language": "python",
   "name": "python3"
  },
  "language_info": {
   "codemirror_mode": {
    "name": "ipython",
    "version": 3
   },
   "file_extension": ".py",
   "mimetype": "text/x-python",
   "name": "python",
   "nbconvert_exporter": "python",
   "pygments_lexer": "ipython3",
   "version": "3.11.6"
  }
 },
 "nbformat": 4,
 "nbformat_minor": 2
}
