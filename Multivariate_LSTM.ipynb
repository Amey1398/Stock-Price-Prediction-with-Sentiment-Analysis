{
 "cells": [
  {
   "cell_type": "markdown",
   "metadata": {},
   "source": [
    "**Table of contents**<a id='toc0_'></a>    \n",
    "- 1. [Setup](#toc1_)    \n",
    "- 2. [Prepare the data](#toc2_)    \n",
    "- 3. [Model](#toc3_)    \n",
    "- 4. [Training & Evaluation](#toc4_)    \n",
    "- 5. [Function Call](#toc5_)    \n",
    "  - 5.1. [Hyperparameter Tuning](#toc5_1_)    \n",
    "  - 5.2. [Standalone](#toc5_2_)    \n",
    "- 6. [Feature Importance](#toc6_)    \n",
    "\n",
    "<!-- vscode-jupyter-toc-config\n",
    "\tnumbering=true\n",
    "\tanchor=true\n",
    "\tflat=false\n",
    "\tminLevel=1\n",
    "\tmaxLevel=6\n",
    "\t/vscode-jupyter-toc-config -->\n",
    "<!-- THIS CELL WILL BE REPLACED ON TOC UPDATE. DO NOT WRITE YOUR TEXT IN THIS CELL -->"
   ]
  },
  {
   "cell_type": "markdown",
   "metadata": {},
   "source": [
    "# 1. <a id='toc1_'></a>[Setup](#toc0_)"
   ]
  },
  {
   "cell_type": "code",
   "execution_count": 190,
   "metadata": {},
   "outputs": [],
   "source": [
    "import numpy as np\n",
    "import pandas as pd\n",
    "\n",
    "import torch\n",
    "# print(torch.__version__)\n",
    "import torch.nn as nn\n",
    "\n",
    "import shap\n",
    "import matplotlib.pyplot as plt\n",
    "\n",
    "from sklearn.preprocessing import MinMaxScaler\n",
    "from sklearn.metrics import mean_squared_error\n",
    "from sklearn.metrics import mean_absolute_percentage_error\n",
    "\n",
    "from pprint import pprint"
   ]
  },
  {
   "cell_type": "markdown",
   "metadata": {},
   "source": [
    "# 2. <a id='toc2_'></a>[Prepare the data](#toc0_)"
   ]
  },
  {
   "cell_type": "code",
   "execution_count": 191,
   "metadata": {},
   "outputs": [],
   "source": [
    "def prepare_data_multivariate(df, choosen_stock, features, look_back):\n",
    "    # Choose specific stock\n",
    "    data = df[df[\"Stock\"] == choosen_stock]\n",
    "\n",
    "    # print(data)\n",
    "    # Filter data for years 2015-2018 for training\n",
    "    train_data = data[data[\"Date\"].dt.year.isin(range(2015, 2019))]\n",
    "    valid_size = int(len(data) * 0.10)\n",
    "    train_data, valid_data = train_data[:-valid_size], train_data[-valid_size:]\n",
    "\n",
    "    # Filter data for the year 2019 for testing\n",
    "    test_data = data[data[\"Date\"].dt.year == 2019]\n",
    "    # test_data = data[(data[\"Date\"].dt.year == 2019) & (data[\"Date\"].dt.month.isin([1]))]\n",
    "    # test_data = data[data[\"Date\"].dt.year == 2019][0:20] # test_data = data[(data[\"Date\"] >= \"2019-01-01\") & (data[\"Date\"] <= \"2019-01-16\")]\n",
    "    \n",
    "    # print(train_data)\n",
    "    \n",
    "    # Feature selection and engineering\n",
    "    train_data = train_data[features].values\n",
    "    valid_data = valid_data[features].values\n",
    "    test_data = test_data[features].values\n",
    "\n",
    "    # print(train_data[:,0])\n",
    "    \n",
    "    # Normalize the data\n",
    "    scaler = MinMaxScaler(feature_range=(0, 1))\n",
    "    train_data = scaler.fit_transform(train_data)\n",
    "    valid_data = scaler.transform(valid_data)\n",
    "    test_data = scaler.transform(test_data)\n",
    "    \n",
    "    # print(\"test_data: \", test_data.shape)\n",
    "    \n",
    "    # Create sequences for LSTM input\n",
    "    def create_sequences(dataset, look_back=1):\n",
    "        X, Y = [], []\n",
    "        for i in range(len(dataset) - look_back):\n",
    "            X.append(dataset[i:(i + look_back), :])\n",
    "            Y.append(dataset[i + look_back, 0])\n",
    "        return np.array(X), np.array(Y)\n",
    "\n",
    "    train_X, train_Y = create_sequences(train_data, look_back)\n",
    "    valid_X, valid_Y = create_sequences(valid_data, look_back)\n",
    "    test_X, test_Y = create_sequences(test_data, look_back)\n",
    "\n",
    "    # Convert data to PyTorch tensors\n",
    "    train_X = torch.Tensor(train_X)\n",
    "    train_Y = torch.Tensor(train_Y)\n",
    "    valid_X = torch.Tensor(valid_X)\n",
    "    valid_Y = torch.Tensor(valid_Y)\n",
    "    test_X = torch.Tensor(test_X)\n",
    "    test_Y = torch.Tensor(test_Y)\n",
    "    \n",
    "    # print(train_X.shape)\n",
    "    # print(train_Y.shape)\n",
    "    # print(valid_X.shape)\n",
    "    # print(valid_Y.shape)\n",
    "    # print(test_X.shape)\n",
    "    # print(test_Y.shape)\n",
    "    \n",
    "    return train_X, train_Y, valid_X, valid_Y, test_X, test_Y, scaler\n",
    "    # return train_X, train_Y, test_X, test_Y, scaler"
   ]
  },
  {
   "cell_type": "markdown",
   "metadata": {},
   "source": [
    "# 3. <a id='toc3_'></a>[Model](#toc0_)"
   ]
  },
  {
   "cell_type": "code",
   "execution_count": 192,
   "metadata": {},
   "outputs": [],
   "source": [
    "class MultivariateLSTMModel(nn.Module):\n",
    "    def __init__(self, input_size, hidden_size, num_layers, output_size):\n",
    "        super(MultivariateLSTMModel, self).__init__()\n",
    "        self.hidden_size = hidden_size\n",
    "        self.num_layers = num_layers\n",
    "        self.lstm = nn.LSTM(input_size, hidden_size, num_layers, batch_first=True)\n",
    "        self.fc = nn.Linear(hidden_size, output_size)\n",
    "    \n",
    "    def forward(self, x):\n",
    "        h0 = torch.zeros(self.num_layers, x.size(0), self.hidden_size).to(x.device)\n",
    "        c0 = torch.zeros(self.num_layers, x.size(0), self.hidden_size).to(x.device)\n",
    "        out, _ = self.lstm(x, (h0, c0))\n",
    "        out = self.fc(out[:, -1, :])\n",
    "        return out"
   ]
  },
  {
   "cell_type": "markdown",
   "metadata": {},
   "source": [
    "# 4. <a id='toc4_'></a>[Training & Evaluation](#toc0_)"
   ]
  },
  {
   "cell_type": "code",
   "execution_count": 213,
   "metadata": {},
   "outputs": [],
   "source": [
    "# Calculate feature importance using SHAP\n",
    "def calculate_shap_values(model, test_X):\n",
    "    # Create a DeepExplainer or other suitable masker based on your model architecture.\n",
    "    masker = shap.Explainer.maskers.DLTK(test_X, model)\n",
    "\n",
    "    explainer = shap.Explainer(model, masker=masker)\n",
    "    shap_values = explainer.shap_values(test_X)\n",
    "    shap_feature_importance = np.abs(shap_values).mean(axis=0)\n",
    "    return shap_feature_importance\n",
    "\n",
    "# Step 5: Visualize feature importance\n",
    "def visualize_feature_importance(feature_importance, features):\n",
    "    plt.figure(figsize=(8, 4))\n",
    "    plt.bar(features, feature_importance)\n",
    "    plt.xlabel('Features')\n",
    "    plt.ylabel('Feature Importance')\n",
    "    plt.title('Feature Importance in Stock Price Prediction')\n",
    "    plt.xticks(rotation=45)\n",
    "    plt.show()\n",
    "\n",
    "def train_evaluate_lstm_multivariate(input_size, hidden_sizes, num_layers, output_size, learning_rate, num_epochs, train_X, train_Y, valid_X, valid_Y, test_X, test_Y, scaler, visualize=False):\n",
    "# def train_evaluate_lstm_multivariate(input_size, hidden_sizes, num_layers, output_size, learning_rate, num_epochs, train_X, train_Y, test_X, test_Y, scaler, visualize=False):\n",
    "    # Initialize the model\n",
    "    model = MultivariateLSTMModel(input_size, hidden_sizes, num_layers, output_size)\n",
    "\n",
    "    # Loss and optimizer\n",
    "    criterion = nn.MSELoss()\n",
    "    optimizer = torch.optim.Adam(model.parameters(), lr=learning_rate)\n",
    "        \n",
    "    # Training the model\n",
    "    train_losses = []\n",
    "    val_losses = []\n",
    "    \n",
    "    \n",
    "    for epoch in range(num_epochs):\n",
    "        model.train()\n",
    "        outputs = model(train_X)\n",
    "        optimizer.zero_grad()\n",
    "        loss = criterion(outputs.view(-1), train_Y)\n",
    "        loss.backward()\n",
    "        optimizer.step()\n",
    "        \n",
    "        train_losses.append(loss.item())\n",
    "        \n",
    "        model.eval()\n",
    "        val_outputs = model(valid_X)\n",
    "        val_loss = criterion(val_outputs.view(-1), valid_Y)\n",
    "        val_losses.append(val_loss.item())\n",
    "        \n",
    "        if visualize == True:\n",
    "            if (epoch + 1) % 20 == 0:\n",
    "                print(f'Epoch [{epoch + 1}/{num_epochs}], Training Loss: {loss.item():.4f}, Validation Loss: {val_loss.item():.4f}')\n",
    "    \n",
    "    model.eval()\n",
    "    # print(test_X.shape)\n",
    "    \n",
    "    # Calculate predictions\n",
    "    train_predict = model(train_X).view(-1).cpu().detach().numpy()\n",
    "    valid_predict = model(valid_X).view(-1).cpu().detach().numpy()\n",
    "    test_predict = model(test_X).view(-1).cpu().detach().numpy()\n",
    "    \n",
    "    # Compute MAPE\n",
    "    train_mape = mean_absolute_percentage_error(train_Y, train_predict)\n",
    "    valid_mape = mean_absolute_percentage_error(valid_Y, valid_predict)\n",
    "    test_mape = mean_absolute_percentage_error(test_Y, test_predict)\n",
    "\n",
    "    # Evaluate the model using metrics like mean squared error (MSE)\n",
    "    train_rmse = mean_squared_error(train_Y, train_predict, squared=False)\n",
    "    valid_rmse = mean_squared_error(valid_Y, valid_predict, squared=False)\n",
    "    test_rmse = mean_squared_error(test_Y, test_predict, squared=False)\n",
    "    \n",
    "    if visualize == True:\n",
    "        # Visualize training and validation loss\n",
    "        plt.figure(figsize=(6, 2))\n",
    "        plt.plot(train_losses, label='Training Loss', linewidth=2)\n",
    "        plt.plot(val_losses, label='Validation Loss', linewidth=2)\n",
    "        plt.title(\"Training and Validation Loss Over Epochs\")\n",
    "        plt.xlabel(\"Epoch\")\n",
    "        plt.ylabel(\"Loss\")\n",
    "        plt.legend()\n",
    "        plt.grid(True)\n",
    "        plt.show()\n",
    "        \n",
    "        def scale_values(value):\n",
    "            m = 43.75\n",
    "            b = 13.123\n",
    "            scaled_value = m * value + b\n",
    "            return scaled_value\n",
    "        \n",
    "        scaled_test_predict = np.array([scale_values(value) for value in test_predict])\n",
    "        scaled_test_Y = np.array([scale_values(value) for value in test_Y])\n",
    "        # test_predict_original = scaler.inverse_transform(test_predict.reshape(-1, 1))\n",
    "        # # test_predict_original = scaler.inverse_transform(test_predict.reshape(-1, 1))\n",
    "\n",
    "        # test_Y_original = scaler.inverse_transform(test_Y.reshape(-1, 1))\n",
    "\n",
    "\n",
    "\n",
    "        # Visualize test and predictions\n",
    "        plt.figure(figsize=(6, 3))\n",
    "        plt.plot(scaled_test_Y, label='True', linewidth=2)\n",
    "        plt.plot(scaled_test_predict, label='Predicted', linewidth=2)\n",
    "        plt.title(\"Predicting next 1 year using Multivariate LSTM\")\n",
    "        plt.xlabel(\"Time Steps\")\n",
    "        plt.ylabel(\"Price\")\n",
    "        plt.legend()\n",
    "        plt.grid(True)\n",
    "        plt.show()\n",
    "        \n",
    "        data = df[df[\"Stock\"] == \"GOOG\"]\n",
    "        \n",
    "        # Extract the date values for the year 2019 from your dataset (assuming your date column is named \"Date\")\n",
    "        dates_2019 = data[data[\"Date\"].dt.year == 2019][\"Date\"]\n",
    "\n",
    "        # Create a figure and axis\n",
    "        fig, ax = plt.subplots(figsize=(10, 5))\n",
    "\n",
    "        # Plot the scaled_test_Y and scaled_test_predict data\n",
    "        ax.plot(dates_2019, scaled_test_Y, label='True', linewidth=2)\n",
    "        ax.plot(dates_2019, scaled_test_predict, label='Predicted', linewidth=2)\n",
    "\n",
    "        # Configure x-axis to display dates nicely\n",
    "        ax.xaxis.set_major_locator(mdates.MonthLocator(interval=1))\n",
    "        ax.xaxis.set_major_formatter(mdates.DateFormatter(\"%b %Y\"))\n",
    "        plt.xticks(rotation=45)\n",
    "\n",
    "        # Set labels, title, and legend\n",
    "        ax.set_xlabel(\"Date\")\n",
    "        ax.set_ylabel(\"Price\")\n",
    "        ax.set_title(\"Predicting next 1 year using MultivariateLSTM\")\n",
    "        ax.legend()\n",
    "\n",
    "        # Display the plot\n",
    "        plt.grid(True)\n",
    "        plt.show()\n",
    "  \n",
    "    print(\"train_X: \", train_X.shape)\n",
    "    print(\"test_X: \", test_X.shape)\n",
    "    \n",
    "    # # Calculate SHAP feature importances\n",
    "    # explainer = shap.Explainer(model, test_X)\n",
    "    # shap_values = explainer.shap_values(test_X)\n",
    "\n",
    "    # explainer_new = shap.Explainer(model.predict, test_X)\n",
    "    # shap_values_new = explainer_new(data[['var1','var2']])\n",
    "    \n",
    "    # # Summarize SHAP values\n",
    "    # shap.summary_plot(shap_values, test_X, feature_names=[\"Close\", \"High\", \"Low\", \"Open\" , \"Volume\"])\n",
    "\n",
    "    # return model, loss, train_rmse, valid_rmse, test_rmse, train_mape, valid_mape, test_mape\n",
    "    \n",
    "\n",
    "    return model, loss, train_rmse, valid_rmse, test_rmse, train_mape, valid_mape, test_mape\n",
    "    # return model, loss, train_rmse,test_rmse, train_mape, test_mape"
   ]
  },
  {
   "cell_type": "markdown",
   "metadata": {},
   "source": [
    "# 5. <a id='toc5_'></a>[Function Call](#toc0_)"
   ]
  },
  {
   "cell_type": "markdown",
   "metadata": {},
   "source": [
    "## 5.1. <a id='toc5_1_'></a>[Hyperparameter Tuning](#toc0_)"
   ]
  },
  {
   "cell_type": "code",
   "execution_count": 116,
   "metadata": {},
   "outputs": [
    {
     "name": "stdout",
     "output_type": "stream",
     "text": [
      "train_X:  torch.Size([845, 10, 5])\n",
      "test_X:  (500,)\n"
     ]
    },
    {
     "name": "stderr",
     "output_type": "stream",
     "text": [
      "unrecognized nn.Module: LSTM\n"
     ]
    },
    {
     "name": "stdout",
     "output_type": "stream",
     "text": [
      "train_X:  torch.Size([845, 10, 5])\n",
      "test_X:  (500,)\n"
     ]
    },
    {
     "name": "stderr",
     "output_type": "stream",
     "text": [
      "unrecognized nn.Module: LSTM\n"
     ]
    },
    {
     "name": "stdout",
     "output_type": "stream",
     "text": [
      "train_X:  torch.Size([845, 10, 5])\n",
      "test_X:  (500,)\n"
     ]
    },
    {
     "name": "stderr",
     "output_type": "stream",
     "text": [
      "unrecognized nn.Module: LSTM\n"
     ]
    },
    {
     "name": "stdout",
     "output_type": "stream",
     "text": [
      "train_X:  torch.Size([845, 10, 5])\n",
      "test_X:  (500,)\n"
     ]
    },
    {
     "name": "stderr",
     "output_type": "stream",
     "text": [
      "unrecognized nn.Module: LSTM\n"
     ]
    },
    {
     "name": "stdout",
     "output_type": "stream",
     "text": [
      "train_X:  torch.Size([845, 10, 5])\n",
      "test_X:  (500,)\n"
     ]
    },
    {
     "name": "stderr",
     "output_type": "stream",
     "text": [
      "unrecognized nn.Module: LSTM\n"
     ]
    },
    {
     "name": "stdout",
     "output_type": "stream",
     "text": [
      "train_X:  torch.Size([845, 10, 5])\n",
      "test_X:  (500,)\n"
     ]
    },
    {
     "name": "stderr",
     "output_type": "stream",
     "text": [
      "unrecognized nn.Module: LSTM\n"
     ]
    },
    {
     "ename": "AssertionError",
     "evalue": "The SHAP explanations do not sum up to the model's output! This is either because of a rounding error or because an operator in your computation graph was not fully supported. If the sum difference of %f is significant compared to the scale of your model outputs, please post as a github issue, with a reproducible example so we can debug it. Used framework: pytorch - Max. diff: 0.0118927756808489 - Tolerance: 0.01",
     "output_type": "error",
     "traceback": [
      "\u001b[1;31m---------------------------------------------------------------------------\u001b[0m",
      "\u001b[1;31mAssertionError\u001b[0m                            Traceback (most recent call last)",
      "\u001b[1;32mc:\\Users\\sohmt\\Documents\\Github_Projects\\Stock-Price-Prediction-with-Sentiment-Analysis\\Multivariate_LSTM.ipynb Cell 12\u001b[0m line \u001b[0;36m3\n\u001b[0;32m     <a href='vscode-notebook-cell:/c%3A/Users/sohmt/Documents/Github_Projects/Stock-Price-Prediction-with-Sentiment-Analysis/Multivariate_LSTM.ipynb#X16sZmlsZQ%3D%3D?line=28'>29</a>\u001b[0m train_X, train_Y, valid_X, valid_Y, test_X, test_Y, scaler \u001b[39m=\u001b[39m prepare_data_multivariate(df, choosen_stock, features\u001b[39m=\u001b[39m[\u001b[39m'\u001b[39m\u001b[39mHigh\u001b[39m\u001b[39m'\u001b[39m, \u001b[39m'\u001b[39m\u001b[39mLow\u001b[39m\u001b[39m'\u001b[39m, \u001b[39m'\u001b[39m\u001b[39mOpen\u001b[39m\u001b[39m'\u001b[39m, \u001b[39m'\u001b[39m\u001b[39mClose\u001b[39m\u001b[39m'\u001b[39m, \u001b[39m'\u001b[39m\u001b[39mVolume\u001b[39m\u001b[39m'\u001b[39m], look_back\u001b[39m=\u001b[39m\u001b[39m10\u001b[39m)\n\u001b[0;32m     <a href='vscode-notebook-cell:/c%3A/Users/sohmt/Documents/Github_Projects/Stock-Price-Prediction-with-Sentiment-Analysis/Multivariate_LSTM.ipynb#X16sZmlsZQ%3D%3D?line=29'>30</a>\u001b[0m \u001b[39m# train_X, train_Y, test_X, test_Y, scaler = prepare_data_multivariate(df, choosen_stock, features=['High', 'Low', 'Open', 'Close', 'Volume'], look_back=10)\u001b[39;00m\n\u001b[1;32m---> <a href='vscode-notebook-cell:/c%3A/Users/sohmt/Documents/Github_Projects/Stock-Price-Prediction-with-Sentiment-Analysis/Multivariate_LSTM.ipynb#X16sZmlsZQ%3D%3D?line=30'>31</a>\u001b[0m model, loss, train_rmse, valid_rmse, test_rmse, train_mape, valid_mape, test_mape, shap_values \u001b[39m=\u001b[39m train_evaluate_lstm_multivariate(input_size, hidden_sizes, num_layers, output_size, learning_rate, num_epochs, train_X, train_Y, valid_X, valid_Y, test_X, test_Y, scaler, visualize\u001b[39m=\u001b[39;49m\u001b[39mFalse\u001b[39;49;00m)\n\u001b[0;32m     <a href='vscode-notebook-cell:/c%3A/Users/sohmt/Documents/Github_Projects/Stock-Price-Prediction-with-Sentiment-Analysis/Multivariate_LSTM.ipynb#X16sZmlsZQ%3D%3D?line=31'>32</a>\u001b[0m \u001b[39m# model, loss, train_rmse, test_rmse, train_mape, test_mape = train_evaluate_lstm_multivariate(input_size, hidden_sizes, num_layers, output_size, learning_rate, num_epochs, train_X, train_Y, test_X, test_Y, scaler, visualize=False)\u001b[39;00m\n\u001b[0;32m     <a href='vscode-notebook-cell:/c%3A/Users/sohmt/Documents/Github_Projects/Stock-Price-Prediction-with-Sentiment-Analysis/Multivariate_LSTM.ipynb#X16sZmlsZQ%3D%3D?line=32'>33</a>\u001b[0m best_models\u001b[39m.\u001b[39mappend({\n\u001b[0;32m     <a href='vscode-notebook-cell:/c%3A/Users/sohmt/Documents/Github_Projects/Stock-Price-Prediction-with-Sentiment-Analysis/Multivariate_LSTM.ipynb#X16sZmlsZQ%3D%3D?line=33'>34</a>\u001b[0m     \u001b[39m\"\u001b[39m\u001b[39mlook_back\u001b[39m\u001b[39m\"\u001b[39m: look_back,\n\u001b[0;32m     <a href='vscode-notebook-cell:/c%3A/Users/sohmt/Documents/Github_Projects/Stock-Price-Prediction-with-Sentiment-Analysis/Multivariate_LSTM.ipynb#X16sZmlsZQ%3D%3D?line=34'>35</a>\u001b[0m     \u001b[39m\"\u001b[39m\u001b[39mmodel\u001b[39m\u001b[39m\"\u001b[39m : model,\n\u001b[1;32m   (...)\u001b[0m\n\u001b[0;32m     <a href='vscode-notebook-cell:/c%3A/Users/sohmt/Documents/Github_Projects/Stock-Price-Prediction-with-Sentiment-Analysis/Multivariate_LSTM.ipynb#X16sZmlsZQ%3D%3D?line=42'>43</a>\u001b[0m     \u001b[39m\"\u001b[39m\u001b[39mshap_values\u001b[39m\u001b[39m\"\u001b[39m: shap_values,\n\u001b[0;32m     <a href='vscode-notebook-cell:/c%3A/Users/sohmt/Documents/Github_Projects/Stock-Price-Prediction-with-Sentiment-Analysis/Multivariate_LSTM.ipynb#X16sZmlsZQ%3D%3D?line=43'>44</a>\u001b[0m })\n",
      "\u001b[1;32mc:\\Users\\sohmt\\Documents\\Github_Projects\\Stock-Price-Prediction-with-Sentiment-Analysis\\Multivariate_LSTM.ipynb Cell 12\u001b[0m line \u001b[0;36m8\n\u001b[0;32m     <a href='vscode-notebook-cell:/c%3A/Users/sohmt/Documents/Github_Projects/Stock-Price-Prediction-with-Sentiment-Analysis/Multivariate_LSTM.ipynb#X16sZmlsZQ%3D%3D?line=79'>80</a>\u001b[0m \u001b[39m# explainer = shap.Explainer(model, train_X.view(-1).cpu().detach().numpy())\u001b[39;00m\n\u001b[0;32m     <a href='vscode-notebook-cell:/c%3A/Users/sohmt/Documents/Github_Projects/Stock-Price-Prediction-with-Sentiment-Analysis/Multivariate_LSTM.ipynb#X16sZmlsZQ%3D%3D?line=80'>81</a>\u001b[0m \u001b[39m# shap_values = explainer.shap_values(test_X.view(-1).cpu().detach().numpy())\u001b[39;00m\n\u001b[0;32m     <a href='vscode-notebook-cell:/c%3A/Users/sohmt/Documents/Github_Projects/Stock-Price-Prediction-with-Sentiment-Analysis/Multivariate_LSTM.ipynb#X16sZmlsZQ%3D%3D?line=81'>82</a>\u001b[0m \u001b[39m# print(\"shap_values: \", shap_values)\u001b[39;00m\n\u001b[0;32m     <a href='vscode-notebook-cell:/c%3A/Users/sohmt/Documents/Github_Projects/Stock-Price-Prediction-with-Sentiment-Analysis/Multivariate_LSTM.ipynb#X16sZmlsZQ%3D%3D?line=83'>84</a>\u001b[0m e \u001b[39m=\u001b[39m shap\u001b[39m.\u001b[39mDeepExplainer(model, train_X)\n\u001b[1;32m---> <a href='vscode-notebook-cell:/c%3A/Users/sohmt/Documents/Github_Projects/Stock-Price-Prediction-with-Sentiment-Analysis/Multivariate_LSTM.ipynb#X16sZmlsZQ%3D%3D?line=84'>85</a>\u001b[0m shap_values \u001b[39m=\u001b[39m e\u001b[39m.\u001b[39;49mshap_values(test_X)\n\u001b[0;32m     <a href='vscode-notebook-cell:/c%3A/Users/sohmt/Documents/Github_Projects/Stock-Price-Prediction-with-Sentiment-Analysis/Multivariate_LSTM.ipynb#X16sZmlsZQ%3D%3D?line=86'>87</a>\u001b[0m \u001b[39mreturn\u001b[39;00m model, loss, train_rmse, valid_rmse, test_rmse, train_mape, valid_mape, test_mape, shap_values\n",
      "File \u001b[1;32mc:\\Users\\sohmt\\Documents\\Github_Projects\\Stock-Price-Prediction-with-Sentiment-Analysis\\venv\\lib\\site-packages\\shap\\explainers\\_deep\\__init__.py:125\u001b[0m, in \u001b[0;36mDeepExplainer.shap_values\u001b[1;34m(self, X, ranked_outputs, output_rank_order, check_additivity)\u001b[0m\n\u001b[0;32m     91\u001b[0m \u001b[39mdef\u001b[39;00m \u001b[39mshap_values\u001b[39m(\u001b[39mself\u001b[39m, X, ranked_outputs\u001b[39m=\u001b[39m\u001b[39mNone\u001b[39;00m, output_rank_order\u001b[39m=\u001b[39m\u001b[39m'\u001b[39m\u001b[39mmax\u001b[39m\u001b[39m'\u001b[39m, check_additivity\u001b[39m=\u001b[39m\u001b[39mTrue\u001b[39;00m):\n\u001b[0;32m     92\u001b[0m \u001b[39m    \u001b[39m\u001b[39m\"\"\" Return approximate SHAP values for the model applied to the data given by X.\u001b[39;00m\n\u001b[0;32m     93\u001b[0m \n\u001b[0;32m     94\u001b[0m \u001b[39m    Parameters\u001b[39;00m\n\u001b[1;32m   (...)\u001b[0m\n\u001b[0;32m    123\u001b[0m \u001b[39m        were chosen as \"top\".\u001b[39;00m\n\u001b[0;32m    124\u001b[0m \u001b[39m    \"\"\"\u001b[39;00m\n\u001b[1;32m--> 125\u001b[0m     \u001b[39mreturn\u001b[39;00m \u001b[39mself\u001b[39;49m\u001b[39m.\u001b[39;49mexplainer\u001b[39m.\u001b[39;49mshap_values(X, ranked_outputs, output_rank_order, check_additivity\u001b[39m=\u001b[39;49mcheck_additivity)\n",
      "File \u001b[1;32mc:\\Users\\sohmt\\Documents\\Github_Projects\\Stock-Price-Prediction-with-Sentiment-Analysis\\venv\\lib\\site-packages\\shap\\explainers\\_deep\\deep_pytorch.py:218\u001b[0m, in \u001b[0;36mPyTorchDeep.shap_values\u001b[1;34m(self, X, ranked_outputs, output_rank_order, check_additivity)\u001b[0m\n\u001b[0;32m    215\u001b[0m         \u001b[39mwith\u001b[39;00m torch\u001b[39m.\u001b[39mno_grad():\n\u001b[0;32m    216\u001b[0m             model_output_values \u001b[39m=\u001b[39m \u001b[39mself\u001b[39m\u001b[39m.\u001b[39mmodel(\u001b[39m*\u001b[39mX)\n\u001b[1;32m--> 218\u001b[0m     _check_additivity(\u001b[39mself\u001b[39;49m, model_output_values\u001b[39m.\u001b[39;49mcpu(), output_phis)\n\u001b[0;32m    220\u001b[0m \u001b[39mif\u001b[39;00m \u001b[39mnot\u001b[39;00m \u001b[39mself\u001b[39m\u001b[39m.\u001b[39mmulti_output:\n\u001b[0;32m    221\u001b[0m     \u001b[39mreturn\u001b[39;00m output_phis[\u001b[39m0\u001b[39m]\n",
      "File \u001b[1;32mc:\\Users\\sohmt\\Documents\\Github_Projects\\Stock-Price-Prediction-with-Sentiment-Analysis\\venv\\lib\\site-packages\\shap\\explainers\\_deep\\deep_utils.py:20\u001b[0m, in \u001b[0;36m_check_additivity\u001b[1;34m(explainer, model_output_values, output_phis)\u001b[0m\n\u001b[0;32m     16\u001b[0m         diffs \u001b[39m-\u001b[39m\u001b[39m=\u001b[39m output_phis[l][i]\u001b[39m.\u001b[39msum(axis\u001b[39m=\u001b[39m\u001b[39mtuple\u001b[39m(\u001b[39mrange\u001b[39m(\u001b[39m1\u001b[39m, output_phis[l][i]\u001b[39m.\u001b[39mndim)))\n\u001b[0;32m     18\u001b[0m maxdiff \u001b[39m=\u001b[39m np\u001b[39m.\u001b[39mabs(diffs)\u001b[39m.\u001b[39mmax()\n\u001b[1;32m---> 20\u001b[0m \u001b[39massert\u001b[39;00m maxdiff \u001b[39m<\u001b[39m TOLERANCE, \u001b[39m\"\u001b[39m\u001b[39mThe SHAP explanations do not sum up to the model\u001b[39m\u001b[39m'\u001b[39m\u001b[39ms output! This is either because of a \u001b[39m\u001b[39m\"\u001b[39m \\\n\u001b[0;32m     21\u001b[0m                             \u001b[39m\"\u001b[39m\u001b[39mrounding error or because an operator in your computation graph was not fully supported. If \u001b[39m\u001b[39m\"\u001b[39m \\\n\u001b[0;32m     22\u001b[0m                             \u001b[39m\"\u001b[39m\u001b[39mthe sum difference of \u001b[39m\u001b[39m%f\u001b[39;00m\u001b[39m is significant compared to the scale of your model outputs, please post \u001b[39m\u001b[39m\"\u001b[39m \\\n\u001b[0;32m     23\u001b[0m                             \u001b[39mf\u001b[39m\u001b[39m\"\u001b[39m\u001b[39mas a github issue, with a reproducible example so we can debug it. Used framework: \u001b[39m\u001b[39m{\u001b[39;00mexplainer\u001b[39m.\u001b[39mframework\u001b[39m}\u001b[39;00m\u001b[39m - Max. diff: \u001b[39m\u001b[39m{\u001b[39;00mmaxdiff\u001b[39m}\u001b[39;00m\u001b[39m - Tolerance: \u001b[39m\u001b[39m{\u001b[39;00mTOLERANCE\u001b[39m}\u001b[39;00m\u001b[39m\"\u001b[39m\n",
      "\u001b[1;31mAssertionError\u001b[0m: The SHAP explanations do not sum up to the model's output! This is either because of a rounding error or because an operator in your computation graph was not fully supported. If the sum difference of %f is significant compared to the scale of your model outputs, please post as a github issue, with a reproducible example so we can debug it. Used framework: pytorch - Max. diff: 0.0118927756808489 - Tolerance: 0.01"
     ]
    }
   ],
   "source": [
    "## Tuning\n",
    "\n",
    "# Load the data\n",
    "df = pd.read_csv(\"Data/df_stocks.csv\")\n",
    "df['Date'] = pd.to_datetime(df['Date'])\n",
    "\n",
    "# Hyperparameters\n",
    "choosen_stock = \"GOOG\"  # [TSLA, GOOG, AAPL, MSFT, AMZN]\n",
    "look_back_values = [5]  # Adjust the look_back window values as needed\n",
    "hidden_size_values = [64, 128] # Adjust the hidden_size values as needed\n",
    "\n",
    "# input_size = 5  # Number of input features (High, Low, Open, Close, Volume)\n",
    "# hidden_sizes = 64  # Number of hidden units in the LSTM\n",
    "\n",
    "num_layers_values = [1] # [2, 3, 4]  # Adjust the num_layers values as needed\n",
    "learning_rate_values = [0.005, 0.01, 0.02]  # Adjust the learning_rate values as needed\n",
    "num_epochs = 100\n",
    "years_to_include = [2015, 2016, 2017, 2018, 2019]\n",
    "\n",
    "best_models = []\n",
    "top_k = 5  # Get the top 5 performing models\n",
    "\n",
    "# Hyperparameter tuning loop\n",
    "for look_back in look_back_values:\n",
    "    for hidden_size in hidden_size_values:\n",
    "        for num_layers in num_layers_values:\n",
    "            for learning_rate in learning_rate_values:\n",
    "                # print(f\"\\nHyperparameters: look_back={look_back}, hidden_size={hidden_size}, num_layers={num_layers}, learning_rate={learning_rate}\")\n",
    "                train_X, train_Y, valid_X, valid_Y, test_X, test_Y, scaler = prepare_data_multivariate(df, choosen_stock, features=['High', 'Low', 'Open', 'Close', 'Volume'], look_back=10)\n",
    "                # train_X, train_Y, test_X, test_Y, scaler = prepare_data_multivariate(df, choosen_stock, features=['High', 'Low', 'Open', 'Close', 'Volume'], look_back=10)\n",
    "                model, loss, train_rmse, valid_rmse, test_rmse, train_mape, valid_mape, test_mape, shap_values = train_evaluate_lstm_multivariate(input_size, hidden_sizes, num_layers, output_size, learning_rate, num_epochs, train_X, train_Y, valid_X, valid_Y, test_X, test_Y, scaler, visualize=False)\n",
    "                # model, loss, train_rmse, test_rmse, train_mape, test_mape = train_evaluate_lstm_multivariate(input_size, hidden_sizes, num_layers, output_size, learning_rate, num_epochs, train_X, train_Y, test_X, test_Y, scaler, visualize=False)\n",
    "                best_models.append({\n",
    "                    \"look_back\": look_back,\n",
    "                    \"model\" : model,\n",
    "                    \"learning_rate\": learning_rate,\n",
    "                    \"train_rmse\": train_rmse,\n",
    "                    \"valid_rmse\": valid_rmse,\n",
    "                    \"test_rmse\": test_rmse,\n",
    "                    \"train_mape\": train_mape,\n",
    "                    \"valid_mape\": valid_mape,\n",
    "                    \"test_mape\": test_mape,\n",
    "                    \"shap_values\": shap_values,\n",
    "                })\n",
    "\n",
    "# Sort the models by RMSE in ascending order\n",
    "best_models.sort(key=lambda x: (x[\"test_rmse\"], x[\"test_mape\"]))\n",
    "\n",
    "# Print the top-k performing models\n",
    "print(f\"\\nTop {top_k} Performing Models:\")\n",
    "pprint(best_models[:top_k])"
   ]
  },
  {
   "cell_type": "markdown",
   "metadata": {},
   "source": [
    "## 5.2. <a id='toc5_2_'></a>[Standalone](#toc0_)"
   ]
  },
  {
   "cell_type": "code",
   "execution_count": 214,
   "metadata": {},
   "outputs": [
    {
     "name": "stdout",
     "output_type": "stream",
     "text": [
      "Epoch [20/100], Training Loss: 0.0025, Validation Loss: 0.0017\n",
      "Epoch [40/100], Training Loss: 0.0009, Validation Loss: 0.0036\n",
      "Epoch [60/100], Training Loss: 0.0005, Validation Loss: 0.0032\n",
      "Epoch [80/100], Training Loss: 0.0005, Validation Loss: 0.0023\n",
      "Epoch [100/100], Training Loss: 0.0005, Validation Loss: 0.0018\n"
     ]
    },
    {
     "data": {
      "image/png": "[encoded data removed]",
      "text/plain": [
       "<Figure size 600x200 with 1 Axes>"
      ]
     },
     "metadata": {},
     "output_type": "display_data"
    },
    {
     "data": {
      "image/png": "[encoded data removed]",
      "text/plain": [
       "<Figure size 600x300 with 1 Axes>"
      ]
     },
     "metadata": {},
     "output_type": "display_data"
    },
    {
     "ename": "ValueError",
     "evalue": "x and y must have same first dimension, but have shapes (252,) and (247,)",
     "output_type": "error",
     "traceback": [
      "\u001b[1;31m---------------------------------------------------------------------------\u001b[0m",
      "\u001b[1;31mValueError\u001b[0m                                Traceback (most recent call last)",
      "\u001b[1;32mc:\\Users\\sohmt\\Documents\\Github_Projects\\Stock-Price-Prediction-with-Sentiment-Analysis\\Multivariate_LSTM.ipynb Cell 14\u001b[0m line \u001b[0;36m2\n\u001b[0;32m     <a href='vscode-notebook-cell:/c%3A/Users/sohmt/Documents/Github_Projects/Stock-Price-Prediction-with-Sentiment-Analysis/Multivariate_LSTM.ipynb#X42sZmlsZQ%3D%3D?line=16'>17</a>\u001b[0m num_epochs \u001b[39m=\u001b[39m \u001b[39m100\u001b[39m\n\u001b[0;32m     <a href='vscode-notebook-cell:/c%3A/Users/sohmt/Documents/Github_Projects/Stock-Price-Prediction-with-Sentiment-Analysis/Multivariate_LSTM.ipynb#X42sZmlsZQ%3D%3D?line=18'>19</a>\u001b[0m \u001b[39m# Create the model\u001b[39;00m\n\u001b[1;32m---> <a href='vscode-notebook-cell:/c%3A/Users/sohmt/Documents/Github_Projects/Stock-Price-Prediction-with-Sentiment-Analysis/Multivariate_LSTM.ipynb#X42sZmlsZQ%3D%3D?line=19'>20</a>\u001b[0m model, loss, train_rmse, valid_rmse, test_rmse, train_mape, valid_mape, test_mape \u001b[39m=\u001b[39m train_evaluate_lstm_multivariate(input_size, hidden_sizes, num_layers, output_size, learning_rate, num_epochs, train_X, train_Y, valid_X, valid_Y, test_X, test_Y, scaler, visualize\u001b[39m=\u001b[39;49m\u001b[39mTrue\u001b[39;49;00m)\n\u001b[0;32m     <a href='vscode-notebook-cell:/c%3A/Users/sohmt/Documents/Github_Projects/Stock-Price-Prediction-with-Sentiment-Analysis/Multivariate_LSTM.ipynb#X42sZmlsZQ%3D%3D?line=20'>21</a>\u001b[0m \u001b[39m# model, loss, train_rmse, test_rmse, train_mape, test_mape = train_evaluate_lstm_multivariate(input_size, hidden_sizes, num_layers, output_size, learning_rate, num_epochs, train_X, train_Y, test_X, test_Y, scaler, visualize=True)\u001b[39;00m\n\u001b[0;32m     <a href='vscode-notebook-cell:/c%3A/Users/sohmt/Documents/Github_Projects/Stock-Price-Prediction-with-Sentiment-Analysis/Multivariate_LSTM.ipynb#X42sZmlsZQ%3D%3D?line=22'>23</a>\u001b[0m \u001b[39mprint\u001b[39m(model)\n",
      "\u001b[1;32mc:\\Users\\sohmt\\Documents\\Github_Projects\\Stock-Price-Prediction-with-Sentiment-Analysis\\Multivariate_LSTM.ipynb Cell 14\u001b[0m line \u001b[0;36m1\n\u001b[0;32m    <a href='vscode-notebook-cell:/c%3A/Users/sohmt/Documents/Github_Projects/Stock-Price-Prediction-with-Sentiment-Analysis/Multivariate_LSTM.ipynb#X42sZmlsZQ%3D%3D?line=115'>116</a>\u001b[0m fig, ax \u001b[39m=\u001b[39m plt\u001b[39m.\u001b[39msubplots(figsize\u001b[39m=\u001b[39m(\u001b[39m10\u001b[39m, \u001b[39m5\u001b[39m))\n\u001b[0;32m    <a href='vscode-notebook-cell:/c%3A/Users/sohmt/Documents/Github_Projects/Stock-Price-Prediction-with-Sentiment-Analysis/Multivariate_LSTM.ipynb#X42sZmlsZQ%3D%3D?line=117'>118</a>\u001b[0m \u001b[39m# Plot the scaled_test_Y and scaled_test_predict data\u001b[39;00m\n\u001b[1;32m--> <a href='vscode-notebook-cell:/c%3A/Users/sohmt/Documents/Github_Projects/Stock-Price-Prediction-with-Sentiment-Analysis/Multivariate_LSTM.ipynb#X42sZmlsZQ%3D%3D?line=118'>119</a>\u001b[0m ax\u001b[39m.\u001b[39;49mplot(dates_2019, scaled_test_Y, label\u001b[39m=\u001b[39;49m\u001b[39m'\u001b[39;49m\u001b[39mTrue\u001b[39;49m\u001b[39m'\u001b[39;49m, linewidth\u001b[39m=\u001b[39;49m\u001b[39m2\u001b[39;49m)\n\u001b[0;32m    <a href='vscode-notebook-cell:/c%3A/Users/sohmt/Documents/Github_Projects/Stock-Price-Prediction-with-Sentiment-Analysis/Multivariate_LSTM.ipynb#X42sZmlsZQ%3D%3D?line=119'>120</a>\u001b[0m ax\u001b[39m.\u001b[39mplot(dates_2019, scaled_test_predict, label\u001b[39m=\u001b[39m\u001b[39m'\u001b[39m\u001b[39mPredicted\u001b[39m\u001b[39m'\u001b[39m, linewidth\u001b[39m=\u001b[39m\u001b[39m2\u001b[39m)\n\u001b[0;32m    <a href='vscode-notebook-cell:/c%3A/Users/sohmt/Documents/Github_Projects/Stock-Price-Prediction-with-Sentiment-Analysis/Multivariate_LSTM.ipynb#X42sZmlsZQ%3D%3D?line=121'>122</a>\u001b[0m \u001b[39m# Configure x-axis to display dates nicely\u001b[39;00m\n",
      "File \u001b[1;32mc:\\Users\\sohmt\\Documents\\Github_Projects\\Stock-Price-Prediction-with-Sentiment-Analysis\\venv\\lib\\site-packages\\matplotlib\\axes\\_axes.py:1721\u001b[0m, in \u001b[0;36mAxes.plot\u001b[1;34m(self, scalex, scaley, data, *args, **kwargs)\u001b[0m\n\u001b[0;32m   1478\u001b[0m \u001b[39m\u001b[39m\u001b[39m\"\"\"\u001b[39;00m\n\u001b[0;32m   1479\u001b[0m \u001b[39mPlot y versus x as lines and/or markers.\u001b[39;00m\n\u001b[0;32m   1480\u001b[0m \n\u001b[1;32m   (...)\u001b[0m\n\u001b[0;32m   1718\u001b[0m \u001b[39m(``'green'``) or hex strings (``'#008000'``).\u001b[39;00m\n\u001b[0;32m   1719\u001b[0m \u001b[39m\"\"\"\u001b[39;00m\n\u001b[0;32m   1720\u001b[0m kwargs \u001b[39m=\u001b[39m cbook\u001b[39m.\u001b[39mnormalize_kwargs(kwargs, mlines\u001b[39m.\u001b[39mLine2D)\n\u001b[1;32m-> 1721\u001b[0m lines \u001b[39m=\u001b[39m [\u001b[39m*\u001b[39m\u001b[39mself\u001b[39m\u001b[39m.\u001b[39m_get_lines(\u001b[39mself\u001b[39m, \u001b[39m*\u001b[39margs, data\u001b[39m=\u001b[39mdata, \u001b[39m*\u001b[39m\u001b[39m*\u001b[39mkwargs)]\n\u001b[0;32m   1722\u001b[0m \u001b[39mfor\u001b[39;00m line \u001b[39min\u001b[39;00m lines:\n\u001b[0;32m   1723\u001b[0m     \u001b[39mself\u001b[39m\u001b[39m.\u001b[39madd_line(line)\n",
      "File \u001b[1;32mc:\\Users\\sohmt\\Documents\\Github_Projects\\Stock-Price-Prediction-with-Sentiment-Analysis\\venv\\lib\\site-packages\\matplotlib\\axes\\_base.py:303\u001b[0m, in \u001b[0;36m_process_plot_var_args.__call__\u001b[1;34m(self, axes, data, *args, **kwargs)\u001b[0m\n\u001b[0;32m    301\u001b[0m     this \u001b[39m+\u001b[39m\u001b[39m=\u001b[39m args[\u001b[39m0\u001b[39m],\n\u001b[0;32m    302\u001b[0m     args \u001b[39m=\u001b[39m args[\u001b[39m1\u001b[39m:]\n\u001b[1;32m--> 303\u001b[0m \u001b[39myield from\u001b[39;00m \u001b[39mself\u001b[39;49m\u001b[39m.\u001b[39;49m_plot_args(\n\u001b[0;32m    304\u001b[0m     axes, this, kwargs, ambiguous_fmt_datakey\u001b[39m=\u001b[39;49mambiguous_fmt_datakey)\n",
      "File \u001b[1;32mc:\\Users\\sohmt\\Documents\\Github_Projects\\Stock-Price-Prediction-with-Sentiment-Analysis\\venv\\lib\\site-packages\\matplotlib\\axes\\_base.py:499\u001b[0m, in \u001b[0;36m_process_plot_var_args._plot_args\u001b[1;34m(self, axes, tup, kwargs, return_kwargs, ambiguous_fmt_datakey)\u001b[0m\n\u001b[0;32m    496\u001b[0m     axes\u001b[39m.\u001b[39myaxis\u001b[39m.\u001b[39mupdate_units(y)\n\u001b[0;32m    498\u001b[0m \u001b[39mif\u001b[39;00m x\u001b[39m.\u001b[39mshape[\u001b[39m0\u001b[39m] \u001b[39m!=\u001b[39m y\u001b[39m.\u001b[39mshape[\u001b[39m0\u001b[39m]:\n\u001b[1;32m--> 499\u001b[0m     \u001b[39mraise\u001b[39;00m \u001b[39mValueError\u001b[39;00m(\u001b[39mf\u001b[39m\u001b[39m\"\u001b[39m\u001b[39mx and y must have same first dimension, but \u001b[39m\u001b[39m\"\u001b[39m\n\u001b[0;32m    500\u001b[0m                      \u001b[39mf\u001b[39m\u001b[39m\"\u001b[39m\u001b[39mhave shapes \u001b[39m\u001b[39m{\u001b[39;00mx\u001b[39m.\u001b[39mshape\u001b[39m}\u001b[39;00m\u001b[39m and \u001b[39m\u001b[39m{\u001b[39;00my\u001b[39m.\u001b[39mshape\u001b[39m}\u001b[39;00m\u001b[39m\"\u001b[39m)\n\u001b[0;32m    501\u001b[0m \u001b[39mif\u001b[39;00m x\u001b[39m.\u001b[39mndim \u001b[39m>\u001b[39m \u001b[39m2\u001b[39m \u001b[39mor\u001b[39;00m y\u001b[39m.\u001b[39mndim \u001b[39m>\u001b[39m \u001b[39m2\u001b[39m:\n\u001b[0;32m    502\u001b[0m     \u001b[39mraise\u001b[39;00m \u001b[39mValueError\u001b[39;00m(\u001b[39mf\u001b[39m\u001b[39m\"\u001b[39m\u001b[39mx and y can be no greater than 2D, but have \u001b[39m\u001b[39m\"\u001b[39m\n\u001b[0;32m    503\u001b[0m                      \u001b[39mf\u001b[39m\u001b[39m\"\u001b[39m\u001b[39mshapes \u001b[39m\u001b[39m{\u001b[39;00mx\u001b[39m.\u001b[39mshape\u001b[39m}\u001b[39;00m\u001b[39m and \u001b[39m\u001b[39m{\u001b[39;00my\u001b[39m.\u001b[39mshape\u001b[39m}\u001b[39;00m\u001b[39m\"\u001b[39m)\n",
      "\u001b[1;31mValueError\u001b[0m: x and y must have same first dimension, but have shapes (252,) and (247,)"
     ]
    },
    {
     "data": {
      "image/png": "[encoded data removed]",
      "text/plain": [
       "<Figure size 1000x500 with 1 Axes>"
      ]
     },
     "metadata": {},
     "output_type": "display_data"
    }
   ],
   "source": [
    "# Load the data\n",
    "df = pd.read_csv(\"Data/df_stocks.csv\")\n",
    "df['Date'] = pd.to_datetime(df['Date'])\n",
    "\n",
    "choosen_stock = \"GOOG\"\n",
    "look_back = 5\n",
    "\n",
    "train_X, train_Y, valid_X, valid_Y, test_X, test_Y, scaler = prepare_data_multivariate(df, choosen_stock, features=['Close', 'High', 'Low', 'Open', 'Volume'], look_back=look_back)\n",
    "# train_X, train_Y, test_X, test_Y, scaler = prepare_data_multivariate(df, choosen_stock, features=['High', 'Low', 'Open', 'Close', 'Volume'], look_back=10)\n",
    "\n",
    "# Define hyperparameters\n",
    "input_size = 5  # Number of input features (High, Low, Open, Close, Volume)\n",
    "hidden_sizes = 64  # Number of hidden units in the LSTM\n",
    "num_layers = 1  # Number of LSTM layers\n",
    "output_size = 1  # Number of output features (Close price)\n",
    "learning_rate = 0.02\n",
    "num_epochs = 100\n",
    "\n",
    "# Create the model\n",
    "model, loss, train_rmse, valid_rmse, test_rmse, train_mape, valid_mape, test_mape = train_evaluate_lstm_multivariate(input_size, hidden_sizes, num_layers, output_size, learning_rate, num_epochs, train_X, train_Y, valid_X, valid_Y, test_X, test_Y, scaler, visualize=True)\n",
    "# model, loss, train_rmse, test_rmse, train_mape, test_mape = train_evaluate_lstm_multivariate(input_size, hidden_sizes, num_layers, output_size, learning_rate, num_epochs, train_X, train_Y, test_X, test_Y, scaler, visualize=True)\n",
    "\n",
    "print(model)\n",
    "print(\"test_rmse: \", round(test_rmse, 2))\n",
    "print(\"test_mape: \", round(test_mape, 2))"
   ]
  },
  {
   "cell_type": "markdown",
   "metadata": {},
   "source": [
    "# 6. <a id='toc6_'></a>[Feature Importance](#toc0_)"
   ]
  },
  {
   "cell_type": "code",
   "execution_count": 182,
   "metadata": {},
   "outputs": [
    {
     "ename": "ValueError",
     "evalue": "masker cannot be None.",
     "output_type": "error",
     "traceback": [
      "\u001b[1;31m---------------------------------------------------------------------------\u001b[0m",
      "\u001b[1;31mValueError\u001b[0m                                Traceback (most recent call last)",
      "\u001b[1;32mc:\\Users\\sohmt\\Documents\\Github_Projects\\Stock-Price-Prediction-with-Sentiment-Analysis\\Multivariate_LSTM.ipynb Cell 16\u001b[0m line \u001b[0;36m1\n\u001b[0;32m    <a href='vscode-notebook-cell:/c%3A/Users/sohmt/Documents/Github_Projects/Stock-Price-Prediction-with-Sentiment-Analysis/Multivariate_LSTM.ipynb#X60sZmlsZQ%3D%3D?line=110'>111</a>\u001b[0m train_X, train_Y, valid_X, valid_Y, test_X, test_Y, scaler \u001b[39m=\u001b[39m preprocess_data(data, look_back)\n\u001b[0;32m    <a href='vscode-notebook-cell:/c%3A/Users/sohmt/Documents/Github_Projects/Stock-Price-Prediction-with-Sentiment-Analysis/Multivariate_LSTM.ipynb#X60sZmlsZQ%3D%3D?line=112'>113</a>\u001b[0m model, train_losses \u001b[39m=\u001b[39m train_multivariate_lstm(input_size, hidden_size, num_layers, output_size, learning_rate, num_epochs, train_X, train_Y)\n\u001b[1;32m--> <a href='vscode-notebook-cell:/c%3A/Users/sohmt/Documents/Github_Projects/Stock-Price-Prediction-with-Sentiment-Analysis/Multivariate_LSTM.ipynb#X60sZmlsZQ%3D%3D?line=114'>115</a>\u001b[0m shap_feature_importance \u001b[39m=\u001b[39m calculate_shap_values(model, test_X)\n\u001b[0;32m    <a href='vscode-notebook-cell:/c%3A/Users/sohmt/Documents/Github_Projects/Stock-Price-Prediction-with-Sentiment-Analysis/Multivariate_LSTM.ipynb#X60sZmlsZQ%3D%3D?line=116'>117</a>\u001b[0m features \u001b[39m=\u001b[39m [\u001b[39m\"\u001b[39m\u001b[39mHigh\u001b[39m\u001b[39m\"\u001b[39m, \u001b[39m\"\u001b[39m\u001b[39mLow\u001b[39m\u001b[39m\"\u001b[39m, \u001b[39m\"\u001b[39m\u001b[39mOpen\u001b[39m\u001b[39m\"\u001b[39m, \u001b[39m\"\u001b[39m\u001b[39mClose\u001b[39m\u001b[39m\"\u001b[39m, \u001b[39m\"\u001b[39m\u001b[39mVolume\u001b[39m\u001b[39m\"\u001b[39m]\n\u001b[0;32m    <a href='vscode-notebook-cell:/c%3A/Users/sohmt/Documents/Github_Projects/Stock-Price-Prediction-with-Sentiment-Analysis/Multivariate_LSTM.ipynb#X60sZmlsZQ%3D%3D?line=117'>118</a>\u001b[0m visualize_feature_importance(shap_feature_importance, features)\n",
      "\u001b[1;32mc:\\Users\\sohmt\\Documents\\Github_Projects\\Stock-Price-Prediction-with-Sentiment-Analysis\\Multivariate_LSTM.ipynb Cell 16\u001b[0m line \u001b[0;36m8\n\u001b[0;32m     <a href='vscode-notebook-cell:/c%3A/Users/sohmt/Documents/Github_Projects/Stock-Price-Prediction-with-Sentiment-Analysis/Multivariate_LSTM.ipynb#X60sZmlsZQ%3D%3D?line=79'>80</a>\u001b[0m \u001b[39mdef\u001b[39;00m \u001b[39mcalculate_shap_values\u001b[39m(model, test_X):\n\u001b[1;32m---> <a href='vscode-notebook-cell:/c%3A/Users/sohmt/Documents/Github_Projects/Stock-Price-Prediction-with-Sentiment-Analysis/Multivariate_LSTM.ipynb#X60sZmlsZQ%3D%3D?line=80'>81</a>\u001b[0m     explainer \u001b[39m=\u001b[39m shap\u001b[39m.\u001b[39;49mExplainer(model)\n\u001b[0;32m     <a href='vscode-notebook-cell:/c%3A/Users/sohmt/Documents/Github_Projects/Stock-Price-Prediction-with-Sentiment-Analysis/Multivariate_LSTM.ipynb#X60sZmlsZQ%3D%3D?line=81'>82</a>\u001b[0m     shap_values \u001b[39m=\u001b[39m explainer\u001b[39m.\u001b[39mshap_values(test_X)\n\u001b[0;32m     <a href='vscode-notebook-cell:/c%3A/Users/sohmt/Documents/Github_Projects/Stock-Price-Prediction-with-Sentiment-Analysis/Multivariate_LSTM.ipynb#X60sZmlsZQ%3D%3D?line=82'>83</a>\u001b[0m     shap_feature_importance \u001b[39m=\u001b[39m np\u001b[39m.\u001b[39mabs(shap_values)\u001b[39m.\u001b[39mmean(axis\u001b[39m=\u001b[39m\u001b[39m0\u001b[39m)\n",
      "File \u001b[1;32mc:\\Users\\sohmt\\Documents\\Github_Projects\\Stock-Price-Prediction-with-Sentiment-Analysis\\venv\\lib\\site-packages\\shap\\explainers\\_explainer.py:179\u001b[0m, in \u001b[0;36mExplainer.__init__\u001b[1;34m(self, model, masker, link, algorithm, output_names, feature_names, linearize_link, seed, **kwargs)\u001b[0m\n\u001b[0;32m    177\u001b[0m \u001b[39melif\u001b[39;00m algorithm \u001b[39m==\u001b[39m \u001b[39m\"\u001b[39m\u001b[39mpermutation\u001b[39m\u001b[39m\"\u001b[39m:\n\u001b[0;32m    178\u001b[0m     \u001b[39mself\u001b[39m\u001b[39m.\u001b[39m\u001b[39m__class__\u001b[39m \u001b[39m=\u001b[39m explainers\u001b[39m.\u001b[39mPermutationExplainer\n\u001b[1;32m--> 179\u001b[0m     explainers\u001b[39m.\u001b[39mPermutationExplainer\u001b[39m.\u001b[39m\u001b[39m__init__\u001b[39m(\u001b[39mself\u001b[39m, \u001b[39mself\u001b[39m\u001b[39m.\u001b[39mmodel, \u001b[39mself\u001b[39m\u001b[39m.\u001b[39mmasker, link\u001b[39m=\u001b[39m\u001b[39mself\u001b[39m\u001b[39m.\u001b[39mlink, feature_names\u001b[39m=\u001b[39m\u001b[39mself\u001b[39m\u001b[39m.\u001b[39mfeature_names, linearize_link\u001b[39m=\u001b[39mlinearize_link, seed\u001b[39m=\u001b[39mseed, \u001b[39m*\u001b[39m\u001b[39m*\u001b[39mkwargs)\n\u001b[0;32m    180\u001b[0m \u001b[39melif\u001b[39;00m algorithm \u001b[39m==\u001b[39m \u001b[39m\"\u001b[39m\u001b[39mpartition\u001b[39m\u001b[39m\"\u001b[39m:\n\u001b[0;32m    181\u001b[0m     \u001b[39mself\u001b[39m\u001b[39m.\u001b[39m\u001b[39m__class__\u001b[39m \u001b[39m=\u001b[39m explainers\u001b[39m.\u001b[39mPartitionExplainer\n",
      "File \u001b[1;32mc:\\Users\\sohmt\\Documents\\Github_Projects\\Stock-Price-Prediction-with-Sentiment-Analysis\\venv\\lib\\site-packages\\shap\\explainers\\_permutation.py:51\u001b[0m, in \u001b[0;36mPermutationExplainer.__init__\u001b[1;34m(self, model, masker, link, feature_names, linearize_link, seed, **call_args)\u001b[0m\n\u001b[0;32m     48\u001b[0m np\u001b[39m.\u001b[39mrandom\u001b[39m.\u001b[39mseed(seed)\n\u001b[0;32m     50\u001b[0m \u001b[39mif\u001b[39;00m masker \u001b[39mis\u001b[39;00m \u001b[39mNone\u001b[39;00m:\n\u001b[1;32m---> 51\u001b[0m     \u001b[39mraise\u001b[39;00m \u001b[39mValueError\u001b[39;00m(\u001b[39m\"\u001b[39m\u001b[39mmasker cannot be None.\u001b[39m\u001b[39m\"\u001b[39m)\n\u001b[0;32m     53\u001b[0m \u001b[39msuper\u001b[39m()\u001b[39m.\u001b[39m\u001b[39m__init__\u001b[39m(model, masker, link\u001b[39m=\u001b[39mlink, linearize_link\u001b[39m=\u001b[39mlinearize_link, feature_names\u001b[39m=\u001b[39mfeature_names)\n\u001b[0;32m     55\u001b[0m \u001b[39mif\u001b[39;00m \u001b[39mnot\u001b[39;00m \u001b[39misinstance\u001b[39m(\u001b[39mself\u001b[39m\u001b[39m.\u001b[39mmodel, Model):\n",
      "\u001b[1;31mValueError\u001b[0m: masker cannot be None."
     ]
    }
   ],
   "source": [
    "import pandas as pd\n",
    "import numpy as np\n",
    "import torch\n",
    "import torch.nn as nn\n",
    "from sklearn.preprocessing import MinMaxScaler\n",
    "from sklearn.metrics import mean_squared_error, mean_absolute_percentage_error\n",
    "import shap\n",
    "import matplotlib.pyplot as plt\n",
    "\n",
    "# Step 1: Load and preprocess your dataset\n",
    "def load_data(file_path):\n",
    "    data = pd.read_csv(file_path)\n",
    "    return data\n",
    "\n",
    "def create_sequences(dataset, look_back=1):\n",
    "    X, Y = [], []\n",
    "    for i in range(len(dataset) - look_back):\n",
    "        X.append(dataset[i:(i + look_back), :])\n",
    "        Y.append(dataset[i + look_back, 0])\n",
    "    return np.array(X), np.array(Y)\n",
    "\n",
    "def preprocess_data(data, look_back):\n",
    "    scaler = MinMaxScaler(feature_range=(0, 1))\n",
    "    data = scaler.fit_transform(data)\n",
    "    train_size = int(len(data) * 0.70)\n",
    "    valid_size = int(len(data) * 0.15)\n",
    "    train_data = data[:train_size]\n",
    "    valid_data = data[train_size:train_size+valid_size]\n",
    "    test_data = data[train_size+valid_size-look_back:]\n",
    "    \n",
    "    train_X, train_Y = create_sequences(train_data, look_back)\n",
    "    valid_X, valid_Y = create_sequences(valid_data, look_back)\n",
    "    test_X, test_Y = create_sequences(test_data, look_back)\n",
    "    \n",
    "    train_X = torch.Tensor(train_X)\n",
    "    train_Y = torch.Tensor(train_Y)\n",
    "    valid_X = torch.Tensor(valid_X)\n",
    "    valid_Y = torch.Tensor(valid_Y)\n",
    "    test_X = torch.Tensor(test_X)\n",
    "    test_Y = torch.Tensor(test_Y)\n",
    "    \n",
    "    return train_X, train_Y, valid_X, valid_Y, test_X, test_Y, scaler\n",
    "\n",
    "# Step 2: Define your multivariate LSTM model\n",
    "class MultivariateLSTMModel(nn.Module):\n",
    "    def __init__(self, input_size, hidden_size, num_layers, output_size):\n",
    "        super(MultivariateLSTMModel, self).__init__()\n",
    "        self.hidden_size = hidden_size\n",
    "        self.num_layers = num_layers\n",
    "        self.lstm = nn.LSTM(input_size, hidden_size, num_layers, batch_first=True)\n",
    "        self.fc = nn.Linear(hidden_size, output_size)\n",
    "    \n",
    "    def forward(self, x):\n",
    "        h0 = torch.zeros(self.num_layers, x.size(0), self.hidden_size).to(x.device)\n",
    "        c0 = torch.zeros(self.num_layers, x.size(0), self.hidden_size).to(x.device)\n",
    "        out, _ = self.lstm(x, (h0, c0))\n",
    "        out = self.fc(out[:, -1, :])\n",
    "        return out\n",
    "\n",
    "# Step 3: Train your multivariate LSTM model\n",
    "def train_multivariate_lstm(input_size, hidden_size, num_layers, output_size, learning_rate, num_epochs, train_X, train_Y):\n",
    "    model = MultivariateLSTMModel(input_size, hidden_size, num_layers, output_size)\n",
    "    criterion = nn.MSELoss()\n",
    "    optimizer = torch.optim.Adam(model.parameters(), lr=learning_rate)\n",
    "    \n",
    "    train_losses = []\n",
    "    \n",
    "    for epoch in range(num_epochs):\n",
    "        model.train()\n",
    "        outputs = model(train_X)\n",
    "        optimizer.zero_grad()\n",
    "        loss = criterion(outputs.view(-1), train_Y)\n",
    "        loss.backward()\n",
    "        optimizer.step()\n",
    "        train_losses.append(loss.item())\n",
    "    \n",
    "    return model, train_losses\n",
    "\n",
    "# Step 4: Calculate feature importance using SHAP\n",
    "def calculate_shap_values(model, test_X):\n",
    "    explainer = shap.Explainer(model)\n",
    "    shap_values = explainer.shap_values(test_X)\n",
    "    shap_feature_importance = np.abs(shap_values).mean(axis=0)\n",
    "    return shap_feature_importance\n",
    "\n",
    "# Step 5: Visualize feature importance\n",
    "def visualize_feature_importance(feature_importance, features):\n",
    "    plt.figure(figsize=(8, 4))\n",
    "    plt.bar(features, feature_importance)\n",
    "    plt.xlabel('Features')\n",
    "    plt.ylabel('Feature Importance')\n",
    "    plt.title('Feature Importance in Stock Price Prediction')\n",
    "    plt.xticks(rotation=45)\n",
    "    plt.show()\n",
    "\n",
    "# Main function\n",
    "# if __name__ == '__main__':\n",
    "#file_path = 'your_data.csv'  # Replace with the path to your dataset\n",
    "look_back = 10\n",
    "input_size = 5  # Number of features\n",
    "hidden_size = 64\n",
    "num_layers = 2\n",
    "output_size = 1\n",
    "learning_rate = 0.001\n",
    "num_epochs = 100\n",
    "    \n",
    "# data = load_data(file_path)\n",
    "data = df[df[\"Stock\"] == \"GOOG\"]\n",
    "data = data[[\"Close\", \"High\", \"Low\", \"Open\", \"Volume\"]]\n",
    "\n",
    "train_X, train_Y, valid_X, valid_Y, test_X, test_Y, scaler = preprocess_data(data, look_back)\n",
    "    \n",
    "model, train_losses = train_multivariate_lstm(input_size, hidden_size, num_layers, output_size, learning_rate, num_epochs, train_X, train_Y)\n",
    "    \n",
    "shap_feature_importance = calculate_shap_values(model, test_X)\n",
    "    \n",
    "features = [\"High\", \"Low\", \"Open\", \"Close\", \"Volume\"]\n",
    "visualize_feature_importance(shap_feature_importance, features)"
   ]
  },
  {
   "cell_type": "code",
   "execution_count": null,
   "metadata": {},
   "outputs": [],
   "source": []
  }
 ],
 "metadata": {
  "kernelspec": {
   "display_name": "venv",
   "language": "python",
   "name": "python3"
  },
  "language_info": {
   "codemirror_mode": {
    "name": "ipython",
    "version": 3
   },
   "file_extension": ".py",
   "mimetype": "text/x-python",
   "name": "python",
   "nbconvert_exporter": "python",
   "pygments_lexer": "ipython3",
   "version": "3.9.7"
  }
 },
 "nbformat": 4,
 "nbformat_minor": 2
}
